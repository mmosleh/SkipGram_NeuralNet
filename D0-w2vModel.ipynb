{
 "cells": [
  {
   "cell_type": "markdown",
   "metadata": {},
   "source": [
    "# Training Vectorizing Words using Word2Vec model"
   ]
  },
  {
   "cell_type": "code",
   "execution_count": 58,
   "metadata": {
    "collapsed": false
   },
   "outputs": [],
   "source": [
    "import gensim, logging\n",
    "logging.basicConfig(format='%(asctime)s : %(levelname)s : %(message)s', level=logging.INFO)\n",
    "import multiprocessing as mp\n",
    "import os\n",
    "import pandas as pd\n",
    "import cPickle\n",
    "import numpy as np\n",
    "from sklearn.decomposition import PCA\n",
    "import matplotlib.font_manager\n",
    "import seaborn as sns\n",
    "import matplotlib.pyplot as plt\n",
    "%matplotlib inline\n",
    "#import visword2vec\n",
    "from collections import Counter\n",
    "\n",
    "core_count= mp.cpu_count()"
   ]
  },
  {
   "cell_type": "code",
   "execution_count": 55,
   "metadata": {
    "collapsed": false
   },
   "outputs": [],
   "source": [
    "def plot1( words,vectors):\n",
    "\n",
    "    # do PCA\n",
    "    #X = np.mat[vectors]\n",
    "    pca = PCA(n_components=2)\n",
    "    X=vectors\n",
    "    pca.fit(X)\n",
    "    print pca.explained_variance_ratio_\n",
    "    X = pca.transform(X)\n",
    "    xs = X[:, 0]\n",
    "    ys = X[:, 1]\n",
    "\n",
    "    # draw\n",
    "    plt.figure(figsize=(6,6))\n",
    "    plt.scatter(xs, ys, marker = 'o',s=5)\n",
    "    for i, w in enumerate(words):\n",
    "        plt.annotate(\n",
    "            w.decode('utf-8', 'ignore'),\n",
    "            xy = (xs[i], ys[i]), xytext = (3, 3),\n",
    "            textcoords = 'offset points', ha = 'left', va = 'top')\n",
    "\n",
    "    plt.show()"
   ]
  },
  {
   "cell_type": "markdown",
   "metadata": {},
   "source": [
    "# Training word2vec model"
   ]
  },
  {
   "cell_type": "code",
   "execution_count": 4,
   "metadata": {
    "collapsed": false
   },
   "outputs": [
    {
     "name": "stdout",
     "output_type": "stream",
     "text": [
      "The output already exists!\n"
     ]
    }
   ],
   "source": [
    "if os.path.isfile('../DataFiles/trained_vec.bin'):\n",
    "    print 'The output already exists!'\n",
    "else:\n",
    "    train_file = open('../DataFiles/all_reviews_sentences.txt')\n",
    "    sentences= []\n",
    "    for line in train_file:\n",
    "        sentences.append(line.lower().replace('.','').replace('-','').split())\n",
    "\n",
    "    model = gensim.models.Word2Vec(sentences, min_count=10)\n",
    "    model = gensim.models.Word2Vec(sentences, size=300,workers=core_count)\n",
    "\n",
    "    model.save('../DataFiles/trained_vec.bin')"
   ]
  },
  {
   "cell_type": "markdown",
   "metadata": {},
   "source": [
    "# Loading the model, \n",
    "## word similarity"
   ]
  },
  {
   "cell_type": "code",
   "execution_count": 4,
   "metadata": {
    "collapsed": false
   },
   "outputs": [
    {
     "name": "stderr",
     "output_type": "stream",
     "text": [
      "2017-01-24 14:40:22,265 : INFO : loading Word2Vec object from ../DataFiles/trained_vec.bin\n",
      "2017-01-24 14:40:22,669 : INFO : loading syn1neg from ../DataFiles/trained_vec.bin.syn1neg.npy with mmap=None\n",
      "2017-01-24 14:40:23,532 : INFO : loading syn0 from ../DataFiles/trained_vec.bin.syn0.npy with mmap=None\n",
      "2017-01-24 14:40:24,459 : INFO : setting ignored attribute syn0norm to None\n",
      "2017-01-24 14:40:24,460 : INFO : setting ignored attribute cum_table to None\n",
      "2017-01-24 14:40:24,461 : INFO : loaded ../DataFiles/trained_vec.bin\n",
      "2017-01-24 14:40:24,625 : INFO : precomputing L2-norms of word weight vectors\n"
     ]
    },
    {
     "data": {
      "text/html": [
       "<div>\n",
       "<table border=\"1\" class=\"dataframe\">\n",
       "  <thead>\n",
       "    <tr style=\"text-align: right;\">\n",
       "      <th></th>\n",
       "      <th>word</th>\n",
       "      <th>similarity</th>\n",
       "    </tr>\n",
       "  </thead>\n",
       "  <tbody>\n",
       "    <tr>\n",
       "      <th>0</th>\n",
       "      <td>cottage</td>\n",
       "      <td>0.802360</td>\n",
       "    </tr>\n",
       "    <tr>\n",
       "      <th>1</th>\n",
       "      <td>bungalow</td>\n",
       "      <td>0.751224</td>\n",
       "    </tr>\n",
       "    <tr>\n",
       "      <th>2</th>\n",
       "      <td>guesthouse</td>\n",
       "      <td>0.747456</td>\n",
       "    </tr>\n",
       "    <tr>\n",
       "      <th>3</th>\n",
       "      <td>casita</td>\n",
       "      <td>0.712503</td>\n",
       "    </tr>\n",
       "    <tr>\n",
       "      <th>4</th>\n",
       "      <td>camper</td>\n",
       "      <td>0.686172</td>\n",
       "    </tr>\n",
       "    <tr>\n",
       "      <th>5</th>\n",
       "      <td>airstream</td>\n",
       "      <td>0.685671</td>\n",
       "    </tr>\n",
       "    <tr>\n",
       "      <th>6</th>\n",
       "      <td>studio</td>\n",
       "      <td>0.673551</td>\n",
       "    </tr>\n",
       "    <tr>\n",
       "      <th>7</th>\n",
       "      <td>hideaway</td>\n",
       "      <td>0.663801</td>\n",
       "    </tr>\n",
       "    <tr>\n",
       "      <th>8</th>\n",
       "      <td>trailer</td>\n",
       "      <td>0.660531</td>\n",
       "    </tr>\n",
       "    <tr>\n",
       "      <th>9</th>\n",
       "      <td>treehouse</td>\n",
       "      <td>0.657508</td>\n",
       "    </tr>\n",
       "  </tbody>\n",
       "</table>\n",
       "</div>"
      ],
      "text/plain": [
       "         word  similarity\n",
       "0     cottage    0.802360\n",
       "1    bungalow    0.751224\n",
       "2  guesthouse    0.747456\n",
       "3      casita    0.712503\n",
       "4      camper    0.686172\n",
       "5   airstream    0.685671\n",
       "6      studio    0.673551\n",
       "7    hideaway    0.663801\n",
       "8     trailer    0.660531\n",
       "9   treehouse    0.657508"
      ]
     },
     "execution_count": 4,
     "metadata": {},
     "output_type": "execute_result"
    }
   ],
   "source": [
    "import gensim\n",
    "model = gensim.models.Word2Vec.load('../DataFiles/trained_vec.bin')\n",
    "\n",
    "df = pd.DataFrame(model.similar_by_word('cabin',topn=10))\n",
    "df.columns=[['word','similarity']]\n",
    "df"
   ]
  },
  {
   "cell_type": "markdown",
   "metadata": {
    "collapsed": false
   },
   "source": [
    "## Algebra equation"
   ]
  },
  {
   "cell_type": "code",
   "execution_count": 6,
   "metadata": {
    "collapsed": false
   },
   "outputs": [
    {
     "data": {
      "text/plain": [
       "[('hostess', 0.804054856300354)]"
      ]
     },
     "execution_count": 6,
     "metadata": {},
     "output_type": "execute_result"
    }
   ],
   "source": [
    "model.most_similar(positive=['host', 'woman'], negative=['man'], topn=1)"
   ]
  },
  {
   "cell_type": "markdown",
   "metadata": {},
   "source": [
    "## Matching"
   ]
  },
  {
   "cell_type": "code",
   "execution_count": 8,
   "metadata": {
    "collapsed": false
   },
   "outputs": [
    {
     "data": {
      "text/plain": [
       "'welcome'"
      ]
     },
     "execution_count": 8,
     "metadata": {},
     "output_type": "execute_result"
    }
   ],
   "source": [
    "model.doesnt_match(\"wall towel bathroom welcome cabin\".split())"
   ]
  },
  {
   "cell_type": "markdown",
   "metadata": {},
   "source": [
    "## Similartity"
   ]
  },
  {
   "cell_type": "code",
   "execution_count": 9,
   "metadata": {
    "collapsed": false
   },
   "outputs": [
    {
     "name": "stdout",
     "output_type": "stream",
     "text": [
      "0.267094335798\n",
      "0.633313943257\n"
     ]
    }
   ],
   "source": [
    "print(model.similarity('cabin', 'inn'))\n",
    "print(model.similarity('hostel', 'hotel'))"
   ]
  },
  {
   "cell_type": "markdown",
   "metadata": {},
   "source": [
    "## Ploting word vectors in 2D using PCA"
   ]
  },
  {
   "cell_type": "code",
   "execution_count": 62,
   "metadata": {
    "collapsed": false
   },
   "outputs": [
    {
     "name": "stdout",
     "output_type": "stream",
     "text": [
      "[ 0.28550961  0.220871  ]\n"
     ]
    },
    {
     "data": {
      "image/png": "[encoded data removed]",
      "text/plain": [
       "<matplotlib.figure.Figure at 0x114a21110>"
      ]
     },
     "metadata": {},
     "output_type": "display_data"
    }
   ],
   "source": [
    "words = [\"block\",\"station\",\"train\",\"subway\",\"dog\",\"cat\",\"restaurant\",\"eat\",'lunch','breakfast']\n",
    "vectors=[]\n",
    "for word in words:\n",
    "    vectors.append(model[word])\n",
    "sns.set_style(\"darkgrid\")\n",
    "plot1(words,vectors)"
   ]
  },
  {
   "cell_type": "markdown",
   "metadata": {},
   "source": [
    "## Raw vector"
   ]
  },
  {
   "cell_type": "code",
   "execution_count": 10,
   "metadata": {
    "collapsed": false
   },
   "outputs": [
    {
     "data": {
      "text/plain": [
       "array([ 1.4550308 ,  0.3940624 ,  0.96272272, -0.51513439,  0.05838453,\n",
       "        0.11652667, -1.28175569, -0.84822196,  0.26959687,  0.3268182 ,\n",
       "        0.21388273, -0.29465479, -0.88845855,  2.33686543, -0.36153826,\n",
       "        1.60229075,  0.14986882,  0.72073853,  0.04800477,  1.66996908,\n",
       "       -0.17910798,  0.87562811,  1.31664038,  0.49429235,  0.91698527,\n",
       "        0.04697718,  0.22947681,  0.90869707,  0.72565889, -0.12199731,\n",
       "        0.01736214, -1.58636618,  1.12740386,  0.62459791, -0.03183404,\n",
       "       -0.10394789, -0.6875841 , -1.09427857,  2.89352727, -0.13843235,\n",
       "        1.65345323,  1.71826708, -1.10500216,  0.30762517,  0.13389966,\n",
       "       -0.4965795 ,  2.86934876,  1.85880089, -0.80497146, -0.23941553,\n",
       "        0.58636546, -1.78203833, -0.55848557,  0.52863246,  0.77804691,\n",
       "        0.31252599,  0.26360765, -1.10693419,  0.54123145, -0.20988232,\n",
       "        0.69677615,  0.72582155,  1.05308759, -0.1398433 , -0.14856255,\n",
       "       -2.5158124 ,  1.71526957, -1.04685533, -0.55286878, -0.1129133 ,\n",
       "        2.01186848,  0.54050422,  1.31919563, -0.38752496,  1.37044621,\n",
       "       -0.58384275, -1.72821212,  0.65290874,  1.02914107, -1.75459445,\n",
       "       -0.65472674, -0.51760757, -0.275406  , -1.1399188 ,  0.88444769,\n",
       "       -0.54059672, -0.32805946,  0.87617445,  0.17066278, -0.3035174 ,\n",
       "        2.27022719, -1.73183024, -0.75178719,  2.29013324, -0.94638109,\n",
       "       -0.13546449, -0.04058611,  0.60500282,  0.08734755,  0.81744605,\n",
       "        1.23542917,  0.79620314,  0.22806773,  0.50903082,  0.86773896,\n",
       "        1.30616283, -0.36672011,  1.73984981, -0.52320522,  0.39040953,\n",
       "       -0.88937181, -0.12129363,  1.50743294, -1.18421483, -2.16254783,\n",
       "        0.87187839,  2.24252582, -0.59691799, -0.64582247,  0.05996878,\n",
       "       -0.35840046,  0.60517031, -1.29956317, -0.05574429, -0.40261576,\n",
       "        1.69508016, -0.64350641, -0.13833967, -0.13993761,  0.76335025,\n",
       "       -0.98122406, -0.78364182,  0.15019812,  0.21855225,  0.95313734,\n",
       "        0.5360254 ,  0.6490193 , -0.13839862,  0.35301158,  0.66604918,\n",
       "       -0.13319796, -1.77688241,  0.69028109, -0.7523573 , -0.77802449,\n",
       "        2.01728678, -1.57277024,  0.12080555,  1.74674737, -0.13986866,\n",
       "        1.90172148,  1.34654689, -0.20901887,  1.66882014,  0.23160565,\n",
       "       -1.82262802, -1.65439379, -1.20238292,  0.4243333 ,  0.48295772,\n",
       "        0.31050205, -1.39215767,  1.72040069, -1.43318009, -0.42201972,\n",
       "        0.74081784, -0.50901854,  2.3682816 , -1.72443914,  1.6914885 ,\n",
       "       -1.61578751, -0.76086122,  2.81549025, -2.18755126, -2.47492957,\n",
       "       -2.91821432,  0.27839521, -0.19366249,  0.46679592, -1.51271951,\n",
       "        1.10492885,  0.18609767, -1.62350309, -0.44507897, -0.36114183,\n",
       "        0.43592709, -1.19844103, -0.40497223, -1.42174983, -0.4582389 ,\n",
       "        0.07030702,  0.55136234, -0.60940725,  0.33863997,  0.81235266,\n",
       "        0.49644291,  0.06793395,  0.75775057,  0.52719069, -0.61217052,\n",
       "        1.80208063,  1.62443399, -1.67111766, -2.35280037, -1.25490391,\n",
       "        0.46405375,  2.43335485,  3.0033946 , -0.46108857, -1.52367759,\n",
       "        1.93958998,  1.44639552, -1.76742625, -1.42761528,  1.12414753,\n",
       "        0.64531654, -1.94550312, -2.58154321,  0.81433934, -0.88705069,\n",
       "        0.57639873, -1.65421844,  0.80111688, -0.16415867, -0.29469606,\n",
       "        0.02186927,  0.01760439, -1.30025208,  2.32926059, -2.17580581,\n",
       "        0.93974787,  0.08391468,  1.09198213, -0.25365904, -0.8804552 ,\n",
       "        1.28282654, -0.41716719, -0.0294174 ,  0.49726272,  1.20480871,\n",
       "        1.55795825, -0.00915126,  1.11130512, -0.08960282, -0.81888402,\n",
       "        0.28353992, -0.29784259,  1.1847471 , -0.0255003 ,  0.07153933,\n",
       "        0.69996476,  1.47916484, -0.20856088,  1.72833073,  1.28614819,\n",
       "       -0.13222463, -0.15864006, -0.65887648,  1.24914479,  0.5725112 ,\n",
       "       -1.64166164,  0.5549131 , -0.33932999,  0.37700921,  1.72460568,\n",
       "       -0.43587673, -1.11459661,  0.22944088,  0.34784216,  0.1645131 ,\n",
       "        0.7203601 , -0.12187007,  1.73521304,  2.20218921, -0.73274535,\n",
       "        0.32963142, -0.98893064, -1.68289852, -3.0325067 ,  0.18043333,\n",
       "       -1.69703507, -1.41218388, -0.68998265, -1.79191935, -0.62326252,\n",
       "       -0.94067103, -1.39435399,  2.5108428 ,  2.92108893,  1.46405745,\n",
       "       -0.12491181,  0.51868832,  0.91126662,  0.1823824 , -0.06128192,\n",
       "        0.38681501,  0.51733977, -0.08270054,  0.4003472 , -1.33066881], dtype=float32)"
      ]
     },
     "execution_count": 10,
     "metadata": {},
     "output_type": "execute_result"
    }
   ],
   "source": [
    "model['guest'] "
   ]
  },
  {
   "cell_type": "code",
   "execution_count": null,
   "metadata": {
    "collapsed": true
   },
   "outputs": [],
   "source": []
  }
 ],
 "metadata": {
  "kernelspec": {
   "display_name": "Python 2",
   "language": "python",
   "name": "python2"
  },
  "language_info": {
   "codemirror_mode": {
    "name": "ipython",
    "version": 2
   },
   "file_extension": ".py",
   "mimetype": "text/x-python",
   "name": "python",
   "nbconvert_exporter": "python",
   "pygments_lexer": "ipython2",
   "version": "2.7.10"
  }
 },
 "nbformat": 4,
 "nbformat_minor": 2
}
